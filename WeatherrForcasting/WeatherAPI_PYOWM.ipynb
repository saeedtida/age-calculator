{
 "cells": [
  {
   "cell_type": "code",
   "execution_count": 7,
   "metadata": {},
   "outputs": [],
   "source": [
    "#You Should install pyowm \n",
    "#Import Libraries\n",
    "\n",
    "from pyowm.owm import OWM"
   ]
  },
  {
   "cell_type": "code",
   "execution_count": 13,
   "metadata": {},
   "outputs": [
    {
     "name": "stdout",
     "output_type": "stream",
     "text": [
      "12.79\n"
     ]
    }
   ],
   "source": [
    "owm = OWM('Your API')\n",
    "\n",
    "mgr = owm.weather_manager()\n",
    "observation = mgr.weather_at_place(input(\"Please Enter Your City Name: \"))\n",
    "w = observation.weather\n",
    "\n",
    "temp = w.temperature(unit='celsius')['temp']\n",
    "\n",
    "print(temp)\n",
    "\n"
   ]
  }
 ],
 "metadata": {
  "kernelspec": {
   "display_name": "base",
   "language": "python",
   "name": "python3"
  },
  "language_info": {
   "codemirror_mode": {
    "name": "ipython",
    "version": 3
   },
   "file_extension": ".py",
   "mimetype": "text/x-python",
   "name": "python",
   "nbconvert_exporter": "python",
   "pygments_lexer": "ipython3",
   "version": "3.9.13"
  },
  "orig_nbformat": 4
 },
 "nbformat": 4,
 "nbformat_minor": 2
}
