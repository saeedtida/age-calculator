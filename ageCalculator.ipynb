{
 "cells": [
  {
   "cell_type": "code",
   "execution_count": 5,
   "metadata": {},
   "outputs": [
    {
     "name": "stdout",
     "output_type": "stream",
     "text": [
      "Age is 33 years or 400 months or 12157 days291768 hours and 1050364800 seconds\n"
     ]
    }
   ],
   "source": [
    "import time\n",
    "from calendar import isleap\n",
    "\n",
    "def jufge_leap_year(year):\n",
    "    if isleap(year):\n",
    "        return True\n",
    "    else:\n",
    "        return False\n",
    "    \n",
    "def month_days(month, leap_year):\n",
    "    if month in [1 , 3 , 5 , 7 , 8 , 10 , 12]:\n",
    "        return 31\n",
    "    elif month in [2 , 6 , 9 , 11]:\n",
    "        return 30\n",
    "    elif month == 2 and leap_year:\n",
    "        return 29\n",
    "    elif month == 2 and (not leap_year):\n",
    "        return 28\n",
    "    \n",
    "def hour_days(day):\n",
    "    hours = day * 24\n",
    "    return hours\n",
    "\n",
    "def sec_days(day):\n",
    "    seconds = day * 24 * 3600\n",
    "    return seconds\n",
    "    \n",
    "age = input(\"Please Enter Your Age: \")\n",
    "localtime = time.localtime(time.time())\n",
    "\n",
    "year = int(age)\n",
    "month = year * 12 + localtime.tm_mon\n",
    "day = 0\n",
    "\n",
    "begin_year = int(localtime.tm_year) -year\n",
    "end_year = begin_year + year\n",
    "\n",
    "for y in range(begin_year , end_year):\n",
    "    if(jufge_leap_year(y)):\n",
    "        day += 366\n",
    "    else:\n",
    "        day += 365\n",
    "\n",
    "leap_year = jufge_leap_year(localtime.tm_year)\n",
    "for m in range(1 , localtime.tm_mon):\n",
    "    day = day + month_days(m , leap_year)\n",
    "\n",
    "day = day + localtime.tm_mday\n",
    "print(\"Age is %d years or \" %(year) , end=\"\")\n",
    "print(\"%d months or %d days\" % (month , day) , end=\"\")\n",
    "print(\"%d hours and %d seconds\" % (hour_days(day) , sec_days(day)))\n"
   ]
  }
 ],
 "metadata": {
  "kernelspec": {
   "display_name": "base",
   "language": "python",
   "name": "python3"
  },
  "language_info": {
   "codemirror_mode": {
    "name": "ipython",
    "version": 3
   },
   "file_extension": ".py",
   "mimetype": "text/x-python",
   "name": "python",
   "nbconvert_exporter": "python",
   "pygments_lexer": "ipython3",
   "version": "3.9.13"
  },
  "orig_nbformat": 4
 },
 "nbformat": 4,
 "nbformat_minor": 2
}
